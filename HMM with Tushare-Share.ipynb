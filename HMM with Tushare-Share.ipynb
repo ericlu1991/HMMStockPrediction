{
 "cells": [
  {
   "cell_type": "code",
   "execution_count": null,
   "metadata": {},
   "outputs": [],
   "source": [
    "import tushare as ts\n",
    "ts.inst_tops(days = 10) #近10交易日内机构席位追踪列表\n",
    "\n",
    "# 返回值说明：\n",
    "\n",
    "# code:代码\n",
    "# name:名称\n",
    "# bamount:累积买入额(万)\n",
    "# bcount:买入次数\n",
    "# samount:累积卖出额(万)\n",
    "# scount:卖出次数\n",
    "# net:净额(万)"
   ]
  },
  {
   "cell_type": "code",
   "execution_count": null,
   "metadata": {},
   "outputs": [],
   "source": [
    "stock_quote = '300142'#改变股票代码即可得到结果值\n",
    "data = ts.get_hist_data(stock_quote)\n",
    "data.to_csv('c:/ASHARES/temp.csv') #注意保存路径必须要与这个\"Notebook\" 在相同的文件夹中. \n"
   ]
  },
  {
   "cell_type": "code",
   "execution_count": null,
   "metadata": {},
   "outputs": [],
   "source": [
    "#搭建HMM模型\n",
    "import datetime\n",
    "import numpy as np\n",
    "import pandas as pd\n",
    "from matplotlib import cm, pyplot as plt\n",
    "from hmmlearn.hmm import GaussianHMM\n",
    "df = pd.read_csv(\"temp.csv\", header=0)\n",
    "df.head()\n",
    "print(\"Data_size：\", df.shape) \n",
    "print(\"Data_headers\", df.columns)"
   ]
  },
  {
   "cell_type": "code",
   "execution_count": null,
   "metadata": {},
   "outputs": [],
   "source": [
    "df['date'] = pd.to_datetime(df['date'])\n",
    "df.reset_index(inplace=True, drop=False)\n",
    "df.drop(['index','open','high','low','price_change','p_change', 'ma5', 'ma10', 'ma20', 'v_ma5', 'v_ma10', 'v_ma20'], axis=1, inplace=True)\n",
    "df['date'] = df['date'].apply(datetime.datetime.toordinal)\n",
    "print(df.head())\n",
    "dates = df['date'][1:]\n",
    "close_v = df['close']\n",
    "volume = df['volume'][1:]\n",
    "diff = np.diff(close_v)\n",
    "\n",
    "X = np.column_stack([diff, volume])\n",
    "print(\"New_data_Size：\", X.shape)"
   ]
  },
  {
   "cell_type": "code",
   "execution_count": null,
   "metadata": {},
   "outputs": [],
   "source": [
    "min = X.mean(axis=0)[0] - 8*X.std(axis=0)[0]\n",
    "max = X.mean(axis=0)[0] + 8*X.std(axis=0)[0] \n",
    "X = pd.DataFrame(X)\n",
    "for i in range(len(X)):\n",
    "    if (X.loc[i, 0]< min) | (X.loc[i, 0] > max):\n",
    "            X.loc[i, 0] = X.mean(axis=0)[0]"
   ]
  },
  {
   "cell_type": "code",
   "execution_count": null,
   "metadata": {},
   "outputs": [],
   "source": [
    "X_Test = X.iloc[:-30]\n",
    "X_Pre = X.iloc[-30:]\n",
    "print(\"traning_size：\", X_Test.shape)     \n",
    "print(\"test_size：\", X_Pre.shape)    \n",
    "\n",
    "model = GaussianHMM(n_components=3, covariance_type='diag', n_iter=1000) \n",
    "model.fit(X_Test)\n",
    "\n",
    "# print(model.transmat_) \n",
    "#状态转移矩阵 - 状态转移矩阵：代表三个隐藏层状态的转移概率。可以看出对角线的数值较大，即状态0、1、2都倾向保持当前的状态，意味该股票较稳。\n",
    "\n",
    "# print(model.means_) \n",
    "#均值矩阵 - 共三行，每一行代表一种隐藏层状态（状态0、1、2），每一行的两个元素分别代表涨幅值的均值和成交量的均值。\n",
    "# 状态0均值为负值，可以解释为“跌”；状态1均值最小，接近0，可以解释为“平”，状态2均值为正，可以解释为“涨”。\n",
    "\n",
    "# print(model.covars_) \n",
    "#协方差矩阵 - 协方差矩阵：共三个协方差矩阵，分别对应三种隐藏层状态。对角线的值为该状态下的方差，方差越大，代表该状态的预测不可信。\n",
    "\n",
    "# print(model.n_components)  #隐藏状态的个数"
   ]
  },
  {
   "cell_type": "code",
   "execution_count": null,
   "metadata": {},
   "outputs": [],
   "source": [
    "expected_returns_volumes = np.dot(model.transmat_, model.means_)\n",
    "expected_returns = expected_returns_volumes[:,0]        \n",
    "predicted_price = []  \n",
    "current_price = close_v.iloc[-30]\n",
    "for i in range(len(X_Pre)):\n",
    "    hidden_states = model.predict(X_Pre.iloc[i].values.reshape(1,2))  \n",
    "    predicted_price.append(current_price+expected_returns[hidden_states])\n",
    "    current_price = predicted_price[i]\n",
    "\n",
    "x = dates[-29: ]\n",
    "y_act = close_v[-29:]\n",
    "y_pre = pd.Series(predicted_price[:-1])\n",
    "plt.figure(figsize=(8,6))\n",
    "plt.plot_date(x, y_act,linestyle=\"-\",marker=\"None\",color='g')\n",
    "plt.plot_date(x, y_pre,linestyle=\"-\",marker=\"None\",color='r')\n",
    "plt.legend(['Actual', 'Predicted'])\n",
    "plt.show()"
   ]
  },
  {
   "cell_type": "code",
   "execution_count": null,
   "metadata": {},
   "outputs": [],
   "source": []
  }
 ],
 "metadata": {
  "kernelspec": {
   "display_name": "Python 3",
   "language": "python",
   "name": "python3"
  },
  "language_info": {
   "codemirror_mode": {
    "name": "ipython",
    "version": 3
   },
   "file_extension": ".py",
   "mimetype": "text/x-python",
   "name": "python",
   "nbconvert_exporter": "python",
   "pygments_lexer": "ipython3",
   "version": "3.7.4"
  }
 },
 "nbformat": 4,
 "nbformat_minor": 2
}
